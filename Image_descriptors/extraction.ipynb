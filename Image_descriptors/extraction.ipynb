{
 "cells": [
  {
   "cell_type": "code",
   "execution_count": 1,
   "id": "ed52d086",
   "metadata": {},
   "outputs": [],
   "source": [
    "import cv2 \n",
    "import matplotlib.pyplot as plt\n",
    "import os\n",
    "from sklearn.cluster import KMeans\n",
    "from sklearn.neighbors import NearestNeighbors\n",
    "import numpy as np"
   ]
  },
  {
   "cell_type": "code",
   "execution_count": 26,
   "id": "53d4072d",
   "metadata": {},
   "outputs": [],
   "source": [
    "dataset_path = \"../data/fashion_small_100/\""
   ]
  },
  {
   "cell_type": "markdown",
   "id": "abfce0e3",
   "metadata": {},
   "source": [
    "### Feature Extraction\n",
    "Extraer los features de las imagenes de la carpeta utilizando opencv con SIFT.\n",
    "\n",
    "```keypoints, descriptors = sift.detectAndCompute(gray, None)```\n",
    "- keypoints almacena las coordenadas (x,y) de cada keypoint de la imagen (esquinas, manchas, cambios bruscos de intensidad, etc).\n",
    "- descriptors almacena los descriptores para cada keypoint de esa imagen (128 descriptores)."
   ]
  },
  {
   "cell_type": "code",
   "execution_count": 30,
   "id": "5d9b3468",
   "metadata": {},
   "outputs": [],
   "source": [
    "# Extracción de descriptores\n",
    "image_descriptors = [] \n",
    "sift = cv2.SIFT_create()\n",
    "\n",
    "# Iterar sobre cada imagen dentro de la carpeta\n",
    "for filename in os.listdir(dataset_path): \n",
    "    file_path = os.path.join(dataset_path, filename)\n",
    "    if os.path.isfile(file_path):\n",
    "        img = cv2.imread(file_path)\n",
    "        if img is None:\n",
    "            print(f\"No se pudo leer la imagen: {file_path}\")\n",
    "            continue\n",
    "\n",
    "        # Convertir a grayscale y extraer descriptores\n",
    "        gray = cv2.cvtColor(img, cv2.COLOR_BGR2GRAY)\n",
    "        keypoints, descriptors = sift.detectAndCompute(gray, None)\n",
    "        \n",
    "        # TODO: Probar reducir la dimensionalidad de 128 a algo menor para más eficiencia al momento de entrenar todo el dataset\n",
    "\n",
    "        if descriptors is not None:\n",
    "            image_descriptors.append(descriptors)\n",
    "        else:\n",
    "            print(f\"No se encontraron descriptores en: {filename}\")\n",
    "\n",
    "# K-Means para construir el diccionario visual\n",
    "all_descriptors = np.vstack(image_descriptors) # Para convertir la matriz image_descriptors en un array 2D para el K-Means\n",
    "\n",
    "# TODO: Para el dataset completo cambiar n_clusters, ver cuales valores producen los mejores resultados\n",
    "#       quizas guardar objeto kmeans en un vector si tarda mucho en generar\n",
    "kmeans = KMeans(n_clusters=10, random_state=0, n_init=\"auto\").fit(all_descriptors)\n",
    "\n",
    "# Construcción de histogramas por imagen\n",
    "all_histograms = []\n",
    "for descriptors in image_descriptors:\n",
    "    histogram = np.zeros(kmeans.n_clusters, dtype=int)\n",
    "\n",
    "    if descriptors is not None:\n",
    "        cluster_assignments = kmeans.predict(descriptors)\n",
    "        for idx in cluster_assignments:\n",
    "            histogram[idx] += 1\n",
    "\n",
    "    # Normalización\n",
    "    histogram = histogram.astype(float)\n",
    "    histogram /= np.sum(histogram) if np.sum(histogram) > 0 else 1\n",
    "    all_histograms.append(histogram)"
   ]
  },
  {
   "cell_type": "markdown",
   "id": "6978e907",
   "metadata": {},
   "source": [
    "### Buscar imagenes más similares"
   ]
  },
  {
   "cell_type": "code",
   "execution_count": null,
   "id": "9bd31f6f",
   "metadata": {},
   "outputs": [
    {
     "name": "stdout",
     "output_type": "stream",
     "text": [
      "[0.17775723 0.19692358 0.1982169  0.21757132 0.22715112 0.23375876\n",
      " 0.23507324 0.23849202 0.24375838 0.24378543]\n"
     ]
    }
   ],
   "source": [
    "from sklearn.metrics.pairwise import euclidean_distances\n",
    "\n",
    "def create_query_histogram(image_path, kmeans): \n",
    "    sift = cv2.SIFT_create()\n",
    "    img = cv2.imread(image_path)\n",
    "    gray = cv2.cvtColor(img, cv2.COLOR_BGR2GRAY)\n",
    "    keypoints, descriptors = sift.detectAndCompute(gray, None)\n",
    "    histogram = np.zeros(kmeans.n_clusters, dtype=int)\n",
    "\n",
    "    if descriptors is not None:\n",
    "        cluster_assignments = kmeans.predict(descriptors)\n",
    "        for idx in cluster_assignments:\n",
    "            histogram[idx] += 1\n",
    "\n",
    "    # Normalización\n",
    "    histogram = histogram.astype(float)\n",
    "    histogram /= np.sum(histogram) if np.sum(histogram) > 0 else 1\n",
    "    return histogram\n",
    "\n",
    "\n",
    "def knn(query_histogram, database_histograms, k=5): # Calcular distancias euclidianas entre query y base de datos\n",
    "    dists = euclidean_distances([query_histogram], database_histograms)[0]  \n",
    "    \"\"\" \n",
    "    argsort() devuelve los índices que pondrías en orden para ordenar el array de distancias.\n",
    "    Como el arreglo de distancias está en el mismo orden que las imagenes de la carpeta del dataset usamos los índices\n",
    "    para acceder cada imagen directamente, sin tener que iterar linealmente sobre todos los nombres de los archivos.\n",
    "    \"\"\"\n",
    "    knn_indices = np.argsort(dists)[:k]\n",
    "    knn_distances = dists[knn_indices]\n",
    "\n",
    "    return knn_distances, knn_indices\n",
    "\n",
    "k = 10\n",
    "image_path = \"C:/Users/davie/Downloads/fashion_small/images/58282.jpg\" # Path query\n",
    "query_histogram = create_query_histogram(image_path, kmeans) # Procesar query\n",
    "dists, indices = knn(query_histogram, all_histograms, k) # Predecir imagen más parecida del dataset\n",
    "print(dists)\n",
    "\n",
    "# Mostrar imagenes más parecidas"
   ]
  },
  {
   "cell_type": "markdown",
   "id": "76ba82f9",
   "metadata": {},
   "source": [
    "Aplicar ponderación TF-IDF"
   ]
  }
 ],
 "metadata": {
  "kernelspec": {
   "display_name": "Python 3",
   "language": "python",
   "name": "python3"
  },
  "language_info": {
   "codemirror_mode": {
    "name": "ipython",
    "version": 3
   },
   "file_extension": ".py",
   "mimetype": "text/x-python",
   "name": "python",
   "nbconvert_exporter": "python",
   "pygments_lexer": "ipython3",
   "version": "3.13.3"
  }
 },
 "nbformat": 4,
 "nbformat_minor": 5
}
