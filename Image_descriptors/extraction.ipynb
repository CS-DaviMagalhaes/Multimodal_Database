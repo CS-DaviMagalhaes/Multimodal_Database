{
 "cells": [
  {
   "cell_type": "code",
   "execution_count": 8,
   "id": "ed52d086",
   "metadata": {},
   "outputs": [],
   "source": [
    "import cv2 \n",
    "import matplotlib.pyplot as plt\n",
    "import os\n",
    "from sklearn.cluster import KMeans\n",
    "import numpy as np"
   ]
  },
  {
   "cell_type": "code",
   "execution_count": 9,
   "id": "53d4072d",
   "metadata": {},
   "outputs": [],
   "source": [
    "dataset_path = \"../data/fashion_small_100/\""
   ]
  },
  {
   "cell_type": "markdown",
   "id": "abfce0e3",
   "metadata": {},
   "source": [
    "### Feature Extraction\n",
    "Extraer los features de las imagenes de la carpeta utilizando opencv con SIFT."
   ]
  },
  {
   "cell_type": "code",
   "execution_count": 25,
   "id": "2b4e80da",
   "metadata": {},
   "outputs": [],
   "source": [
    "sift = cv2.SIFT_create()\n",
    "descriptor_list = []  # Aquí guardaremos todos los descriptores de todas las imágenes\n",
    "\n",
    "for filename in os.listdir(dataset_path):\n",
    "    file_path = os.path.join(dataset_path, filename)\n",
    "    \n",
    "    if os.path.isfile(file_path):\n",
    "        img = cv2.imread(file_path)\n",
    "        if img is None:\n",
    "            print(f\"No se pudo leer la imagen: {file_path}\")\n",
    "            continue\n",
    "\n",
    "        gray = cv2.cvtColor(img, cv2.COLOR_BGR2GRAY)\n",
    "        keypoints, descriptors = sift.detectAndCompute(gray, None)\n",
    "\n",
    "        if descriptors is not None:\n",
    "            descriptor_list.extend(descriptors)  # 128 descriptores\n",
    "\n",
    "descriptor_list = np.array(descriptor_list, dtype=np.float32) # Convertir a numpy con float32 para que no salgan doubles y de error\n"
   ]
  },
  {
   "cell_type": "code",
   "execution_count": 11,
   "id": "b529eb7a",
   "metadata": {},
   "outputs": [],
   "source": [
    "# Guardar features extraídos en un archivo"
   ]
  },
  {
   "cell_type": "markdown",
   "id": "afa9c99f",
   "metadata": {},
   "source": [
    "### Construcción del diccionario visual\n",
    "- Se recopilan los descriptores locales extraídos de múltiples objetos (imágenes o audios)\n",
    "para conformar un único conjunto de datos.\n",
    "- Se aplica el algoritmo K-Means para agrupar los descriptores en clusters, donde cada\n",
    "cluster representa un “visual Word” (en el caso de imágenes) o un “acoustic word” (en el\n",
    "caso de audio).\n",
    "- El centroide de cada cluster se considera un codeword, y el conjunto de estos codewords\n",
    "conforma el diccionario visual o acústico."
   ]
  },
  {
   "cell_type": "code",
   "execution_count": 27,
   "id": "315124b2",
   "metadata": {},
   "outputs": [],
   "source": [
    "def build_histogram(descriptors, kmeans):\n",
    "    cluster_assignments = kmeans.predict(descriptors) # Predecir el cluster de cada descriptor\n",
    "    \n",
    "    histogram = np.zeros(kmeans.n_clusters, dtype=int) #histograma vacío (tamaño igual al numero de clusters)\n",
    "    \n",
    "    for idx in cluster_assignments:\n",
    "        histogram[idx] += 1\n",
    "    \n",
    "    # Normalizar (para ayudar en la clasificación)\n",
    "    histogram = histogram.astype(float)\n",
    "    histogram /= np.sum(histogram)\n",
    "\n",
    "    return histogram"
   ]
  },
  {
   "cell_type": "code",
   "execution_count": 29,
   "id": "8337f28c",
   "metadata": {},
   "outputs": [],
   "source": [
    "kmeans = KMeans(n_clusters=10, random_state=0, n_init=\"auto\").fit(descriptor_list)\n",
    "\n",
    "all_histograms = []\n",
    "sift = cv2.SIFT_create()  \n",
    "for filename in os.listdir(dataset_path):  # Iterar sobre todas las imágenes de la carpeta\n",
    "    file_path = os.path.join(dataset_path, filename)\n",
    "    \n",
    "    if os.path.isfile(file_path):\n",
    "        img = cv2.imread(file_path) \n",
    "        if img is None:\n",
    "            print(f\"No se pudo leer la imagen: {file_path}\")\n",
    "            continue\n",
    "\n",
    "        image_gray = cv2.cvtColor(img, cv2.COLOR_BGR2GRAY)  # Convertir a escala de grises\n",
    "        keypoints, descriptors = sift.detectAndCompute(image_gray, None)\n",
    "\n",
    "        if (descriptors is not None):\n",
    "            histogram = build_histogram(descriptors, kmeans)\n",
    "            all_histograms.append(histogram)"
   ]
  },
  {
   "cell_type": "markdown",
   "id": "6978e907",
   "metadata": {},
   "source": [
    "Predecir"
   ]
  },
  {
   "cell_type": "code",
   "execution_count": 30,
   "id": "b3b2cdf2",
   "metadata": {},
   "outputs": [],
   "source": [
    "from sklearn.neighbors import NearestNeighbors\n",
    "\n",
    "def predict_image(image_path, kmeans, all_histograms):\n",
    "        image = cv2.imread(image_path)\n",
    "        image_gray = cv2.cvtColor(image, cv2.COLOR_BGR2GRAY)  \n",
    "\n",
    "        keypoint, descriptor = sift.detectAndCompute(image_gray, None)\n",
    "\n",
    "        histogram = build_histogram(descriptor, kmeans)\n",
    "        neighbor = NearestNeighbors(n_neighbors = 20)\n",
    "        neighbor.fit(all_histograms)\n",
    "        dist, result = neighbor.kneighbors([histogram])\n",
    "\n",
    "        return dist, result"
   ]
  },
  {
   "cell_type": "code",
   "execution_count": 32,
   "id": "9bd31f6f",
   "metadata": {},
   "outputs": [
    {
     "name": "stdout",
     "output_type": "stream",
     "text": [
      "[[0.3350297  0.35136418 0.40824829 0.41573971 0.42056004 0.42163702\n",
      "  0.42599822 0.44221664 0.44411559 0.44487826 0.44659376 0.44946657\n",
      "  0.45133547 0.46091811 0.47626091 0.47958315 0.48092881 0.48203262\n",
      "  0.48279024 0.49236596]]\n",
      "[[41 66 34 82 23 37 67  8 70 38 13 68 55 62 25 74  5 51 17 79]]\n"
     ]
    }
   ],
   "source": [
    "image_path = \"C:/Users/davie/Downloads/fashion_small/images/58482.jpg\"\n",
    "dist, result = predict_image(image_path, kmeans, all_histograms)\n",
    "print(dist)\n",
    "print(result)"
   ]
  },
  {
   "cell_type": "markdown",
   "id": "76ba82f9",
   "metadata": {},
   "source": [
    "otra implementación"
   ]
  }
 ],
 "metadata": {
  "kernelspec": {
   "display_name": "Python 3",
   "language": "python",
   "name": "python3"
  },
  "language_info": {
   "codemirror_mode": {
    "name": "ipython",
    "version": 3
   },
   "file_extension": ".py",
   "mimetype": "text/x-python",
   "name": "python",
   "nbconvert_exporter": "python",
   "pygments_lexer": "ipython3",
   "version": "3.13.3"
  }
 },
 "nbformat": 4,
 "nbformat_minor": 5
}
